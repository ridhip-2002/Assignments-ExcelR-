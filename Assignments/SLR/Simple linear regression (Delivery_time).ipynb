{
 "cells": [
  {
   "cell_type": "code",
   "execution_count": 29,
   "id": "f2520ce1",
   "metadata": {},
   "outputs": [],
   "source": [
    "import pandas as pd\n",
    "import numpy as np\n",
    "import matplotlib.pyplot as plt\n",
    "from sklearn.linear_model import LinearRegression\n",
    "from sklearn.model_selection import train_test_split\n",
    "from sklearn.metrics import r2_score, mean_squared_error"
   ]
  },
  {
   "cell_type": "code",
   "execution_count": 30,
   "id": "c12d4a8c",
   "metadata": {},
   "outputs": [],
   "source": [
    "data = pd.DataFrame({\n",
    "    'Delivery_time': [21, 13.5, 19.75, 24, 29, 15.35, 19, 9.5, 17.9, 18.75, 19.83, 10.75, 16.68, 11.5, 12.03, 14.88, 13.75, 18.11, 8, 17.83, 21.5],\n",
    "    'Sorting_time': [10, 4, 6, 9, 10, 6, 7, 3, 10, 9, 8, 4, 7, 3, 3, 4, 6, 7, 2, 7, 5]\n",
    "})"
   ]
  },
  {
   "cell_type": "code",
   "execution_count": 31,
   "id": "ea6ea298",
   "metadata": {},
   "outputs": [
    {
     "data": {
      "image/png": "[encoded data removed]",
      "text/plain": [
       "<Figure size 432x288 with 1 Axes>"
      ]
     },
     "metadata": {
      "needs_background": "light"
     },
     "output_type": "display_data"
    }
   ],
   "source": [
    "#Performing exploratory data analysis (EDA)\n",
    "data.plot(x='Sorting_time', y='Delivery_time', style='o')\n",
    "plt.xlabel('Sorting Time')\n",
    "plt.ylabel('Delivery Time')\n",
    "plt.title('Sorting Time vs. Delivery Time')\n",
    "plt.show()"
   ]
  },
  {
   "cell_type": "code",
   "execution_count": 32,
   "id": "97423a0c",
   "metadata": {},
   "outputs": [],
   "source": [
    "X = data[['Sorting_time']]\n",
    "y = data['Delivery_time']\n",
    "X_train, X_test, y_train, y_test = train_test_split(X, y, test_size=0.2, random_state=42)"
   ]
  },
  {
   "cell_type": "code",
   "execution_count": 33,
   "id": "adcd7d1a",
   "metadata": {},
   "outputs": [],
   "source": [
    "\n",
    "#Build the linear regression model with different transformations\n",
    "models = []\n",
    "transformations = ['none', 'log', 'sqrt', 'cbrt']\n",
    "\n",
    "for transform in transformations:\n",
    "    if transform == 'none':\n",
    "        X_train_transformed = X_train\n",
    "        X_test_transformed = X_test\n",
    "    elif transform == 'log':\n",
    "        X_train_transformed = np.log(X_train)\n",
    "        X_test_transformed = np.log(X_test)\n",
    "    elif transform == 'sqrt':\n",
    "        X_train_transformed = np.sqrt(X_train)\n",
    "        X_test_transformed = np.sqrt(X_test)\n",
    "    elif transform == 'cbrt':\n",
    "        X_train_transformed = np.cbrt(X_train)\n",
    "        X_test_transformed = np.cbrt(X_test)\n",
    "    \n",
    "    model = LinearRegression()\n",
    "    model.fit(X_train_transformed, y_train)\n",
    "    models.append((transform, model))"
   ]
  },
  {
   "cell_type": "code",
   "execution_count": 34,
   "id": "0cdeebc0",
   "metadata": {},
   "outputs": [
    {
     "name": "stdout",
     "output_type": "stream",
     "text": [
      "Transformation: none\n",
      "R-squared: -10.30443831852105\n",
      "Mean Squared Error: 78.57959251071661\n",
      "Root Mean Squared Error: 8.864513100600428\n",
      "\n",
      "Transformation: log\n",
      "R-squared: 0.45354943931736147\n",
      "Mean Squared Error: 3.7984958806261275\n",
      "Root Mean Squared Error: 1.948973032298325\n",
      "\n",
      "Transformation: sqrt\n",
      "R-squared: -2.853439820491018\n",
      "Mean Squared Error: 26.786092535234292\n",
      "Root Mean Squared Error: 5.175528237313975\n",
      "\n",
      "Transformation: cbrt\n",
      "R-squared: -0.23779487062801707\n",
      "Mean Squared Error: 8.604179509427402\n",
      "Root Mean Squared Error: 2.9332881736078034\n",
      "\n"
     ]
    }
   ],
   "source": [
    "#Model evaluation\n",
    "for transform, model in models:\n",
    "    X_test_transformed = X_test_transformed.astype(float)  # Convert transformed data back to float\n",
    "    y_pred = model.predict(X_test_transformed)\n",
    "    r2 = r2_score(y_test, y_pred)\n",
    "    mse = mean_squared_error(y_test, y_pred)\n",
    "    rmse = np.sqrt(mse)\n",
    "    print(f'Transformation: {transform}')\n",
    "    print(f'R-squared: {r2}')\n",
    "    print(f'Mean Squared Error: {mse}')\n",
    "    print(f'Root Mean Squared Error: {rmse}\\n')"
   ]
  },
  {
   "cell_type": "code",
   "execution_count": 35,
   "id": "413c20f0",
   "metadata": {},
   "outputs": [],
   "source": [
    "best_transform, best_model = models[0]  # Assuming the first model is the best based on evaluation"
   ]
  },
  {
   "cell_type": "code",
   "execution_count": 36,
   "id": "e9832d0f",
   "metadata": {},
   "outputs": [
    {
     "data": {
      "image/png": "[encoded data removed]",
      "text/plain": [
       "<Figure size 432x288 with 1 Axes>"
      ]
     },
     "metadata": {
      "needs_background": "light"
     },
     "output_type": "display_data"
    }
   ],
   "source": [
    "X_test_transformed = X_test.astype(float)  # Convert transformed data back to float\n",
    "y_pred = best_model.predict(X_test_transformed)\n",
    "\n",
    "plt.scatter(y_test, y_pred)\n",
    "plt.xlabel('Actual Delivery Time')\n",
    "plt.ylabel('Predicted Delivery Time')\n",
    "plt.title('Actual vs. Predicted Delivery Time')\n",
    "plt.show()"
   ]
  },
  {
   "cell_type": "code",
   "execution_count": 37,
   "id": "7112b9d9",
   "metadata": {},
   "outputs": [
    {
     "name": "stdout",
     "output_type": "stream",
     "text": [
      "Best Transformation: none\n",
      "Coefficient: 2.024244553759662\n",
      "Intercept: 4.682297962052008\n"
     ]
    }
   ],
   "source": [
    "#Model interpretation\n",
    "best_transform, best_model = models[0]  # Assuming the first model is the best based on evaluation\n",
    "\n",
    "coefficient = best_model.coef_[0]\n",
    "intercept = best_model.intercept_\n",
    "\n",
    "print(f'Best Transformation: {best_transform}')\n",
    "print(f'Coefficient: {coefficient}')\n",
    "print(f'Intercept: {intercept}')"
   ]
  },
  {
   "cell_type": "code",
   "execution_count": 38,
   "id": "8320e087",
   "metadata": {},
   "outputs": [
    {
     "name": "stdout",
     "output_type": "stream",
     "text": [
      "R-squared: -1.0207599586367362\n",
      "Mean Squared Error: 14.046738956635016\n"
     ]
    }
   ],
   "source": [
    "#Calculate R-squared and MSE\n",
    "X_test_transformed = X_test_transformed.astype(float)  # Convert transformed data back to float\n",
    "y_pred = best_model.predict(X_test_transformed)\n",
    "r2 = r2_score(y_test, y_pred)\n",
    "mse = mean_squared_error(y_test, y_pred)\n",
    "\n",
    "print(f'R-squared: {r2}')\n",
    "print(f'Mean Squared Error: {mse}')"
   ]
  },
  {
   "cell_type": "code",
   "execution_count": 39,
   "id": "4406bec7",
   "metadata": {},
   "outputs": [
    {
     "name": "stdout",
     "output_type": "stream",
     "text": [
      "Predicted Delivery Time:\n",
      "Sorting Time: 5, Predicted Delivery Time: 14.803520730850318\n",
      "Sorting Time: 8, Predicted Delivery Time: 20.876254392129304\n",
      "Sorting Time: 12, Predicted Delivery Time: 28.973232607167954\n"
     ]
    },
    {
     "name": "stderr",
     "output_type": "stream",
     "text": [
      "C:\\Users\\user\\anaconda3\\lib\\site-packages\\sklearn\\base.py:450: UserWarning: X does not have valid feature names, but LinearRegression was fitted with feature names\n",
      "  warnings.warn(\n"
     ]
    }
   ],
   "source": [
    "#Predict delivery time\n",
    "new_sorting_time = np.array([5, 8, 12]).reshape(-1, 1)\n",
    "new_sorting_time_transformed = new_sorting_time  # Apply the same transformation used in the best model\n",
    "\n",
    "if best_transform == 'log':\n",
    "    new_sorting_time_transformed = np.log(new_sorting_time)\n",
    "elif best_transform == 'sqrt':\n",
    "    new_sorting_time_transformed = np.sqrt(new_sorting_time)\n",
    "elif best_transform == 'cbrt':\n",
    "    new_sorting_time_transformed = np.cbrt(new_sorting_time)\n",
    "\n",
    "predicted_delivery_time = best_model.predict(new_sorting_time_transformed)\n",
    "\n",
    "print('Predicted Delivery Time:')\n",
    "for sorting_time, delivery_time in zip(new_sorting_time, predicted_delivery_time):\n",
    "    print(f'Sorting Time: {sorting_time[0]}, Predicted Delivery Time: {delivery_time}')"
   ]
  },
  {
   "cell_type": "code",
   "execution_count": null,
   "id": "158da9c5",
   "metadata": {},
   "outputs": [],
   "source": []
  },
  {
   "cell_type": "code",
   "execution_count": null,
   "id": "588db0be",
   "metadata": {},
   "outputs": [],
   "source": []
  }
 ],
 "metadata": {
  "kernelspec": {
   "display_name": "Python 3 (ipykernel)",
   "language": "python",
   "name": "python3"
  },
  "language_info": {
   "codemirror_mode": {
    "name": "ipython",
    "version": 3
   },
   "file_extension": ".py",
   "mimetype": "text/x-python",
   "name": "python",
   "nbconvert_exporter": "python",
   "pygments_lexer": "ipython3",
   "version": "3.9.12"
  }
 },
 "nbformat": 4,
 "nbformat_minor": 5
}
