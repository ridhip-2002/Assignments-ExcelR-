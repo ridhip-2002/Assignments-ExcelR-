{
 "cells": [
  {
   "cell_type": "code",
   "execution_count": 79,
   "id": "fb220193",
   "metadata": {},
   "outputs": [],
   "source": [
    "import pandas as pd\n",
    "import numpy as npd\n",
    "import matplotlib.pyplot as plt\n",
    "%matplotlib inline\n",
    "import seaborn as sns\n",
    "from sklearn.preprocessing import MinMaxScaler\n",
    "from sklearn.preprocessing import StandardScaler\n",
    "from sklearn.preprocessing import LabelEncoder\n",
    "import warnings\n",
    "warnings.filterwarnings(action='ignore')\n",
    "from sklearn.model_selection import GridSearchCV, cross_val_score, train_test_split"
   ]
  },
  {
   "cell_type": "code",
   "execution_count": 80,
   "id": "12ccf02c",
   "metadata": {},
   "outputs": [
    {
     "data": {
      "text/html": [
       "<div>\n",
       "<style scoped>\n",
       "    .dataframe tbody tr th:only-of-type {\n",
       "        vertical-align: middle;\n",
       "    }\n",
       "\n",
       "    .dataframe tbody tr th {\n",
       "        vertical-align: top;\n",
       "    }\n",
       "\n",
       "    .dataframe thead th {\n",
       "        text-align: right;\n",
       "    }\n",
       "</style>\n",
       "<table border=\"1\" class=\"dataframe\">\n",
       "  <thead>\n",
       "    <tr style=\"text-align: right;\">\n",
       "      <th></th>\n",
       "      <th>AT</th>\n",
       "      <th>AP</th>\n",
       "      <th>AH</th>\n",
       "      <th>AFDP</th>\n",
       "      <th>GTEP</th>\n",
       "      <th>TIT</th>\n",
       "      <th>TAT</th>\n",
       "      <th>TEY</th>\n",
       "      <th>CDP</th>\n",
       "      <th>CO</th>\n",
       "      <th>NOX</th>\n",
       "    </tr>\n",
       "  </thead>\n",
       "  <tbody>\n",
       "    <tr>\n",
       "      <th>0</th>\n",
       "      <td>6.8594</td>\n",
       "      <td>1007.9</td>\n",
       "      <td>96.799</td>\n",
       "      <td>3.5000</td>\n",
       "      <td>19.663</td>\n",
       "      <td>1059.2</td>\n",
       "      <td>550.00</td>\n",
       "      <td>114.70</td>\n",
       "      <td>10.605</td>\n",
       "      <td>3.1547</td>\n",
       "      <td>82.722</td>\n",
       "    </tr>\n",
       "    <tr>\n",
       "      <th>1</th>\n",
       "      <td>6.7850</td>\n",
       "      <td>1008.4</td>\n",
       "      <td>97.118</td>\n",
       "      <td>3.4998</td>\n",
       "      <td>19.728</td>\n",
       "      <td>1059.3</td>\n",
       "      <td>550.00</td>\n",
       "      <td>114.72</td>\n",
       "      <td>10.598</td>\n",
       "      <td>3.2363</td>\n",
       "      <td>82.776</td>\n",
       "    </tr>\n",
       "    <tr>\n",
       "      <th>2</th>\n",
       "      <td>6.8977</td>\n",
       "      <td>1008.8</td>\n",
       "      <td>95.939</td>\n",
       "      <td>3.4824</td>\n",
       "      <td>19.779</td>\n",
       "      <td>1059.4</td>\n",
       "      <td>549.87</td>\n",
       "      <td>114.71</td>\n",
       "      <td>10.601</td>\n",
       "      <td>3.2012</td>\n",
       "      <td>82.468</td>\n",
       "    </tr>\n",
       "    <tr>\n",
       "      <th>3</th>\n",
       "      <td>7.0569</td>\n",
       "      <td>1009.2</td>\n",
       "      <td>95.249</td>\n",
       "      <td>3.4805</td>\n",
       "      <td>19.792</td>\n",
       "      <td>1059.6</td>\n",
       "      <td>549.99</td>\n",
       "      <td>114.72</td>\n",
       "      <td>10.606</td>\n",
       "      <td>3.1923</td>\n",
       "      <td>82.670</td>\n",
       "    </tr>\n",
       "    <tr>\n",
       "      <th>4</th>\n",
       "      <td>7.3978</td>\n",
       "      <td>1009.7</td>\n",
       "      <td>95.150</td>\n",
       "      <td>3.4976</td>\n",
       "      <td>19.765</td>\n",
       "      <td>1059.7</td>\n",
       "      <td>549.98</td>\n",
       "      <td>114.72</td>\n",
       "      <td>10.612</td>\n",
       "      <td>3.2484</td>\n",
       "      <td>82.311</td>\n",
       "    </tr>\n",
       "  </tbody>\n",
       "</table>\n",
       "</div>"
      ],
      "text/plain": [
       "       AT      AP      AH    AFDP    GTEP     TIT     TAT     TEY     CDP  \\\n",
       "0  6.8594  1007.9  96.799  3.5000  19.663  1059.2  550.00  114.70  10.605   \n",
       "1  6.7850  1008.4  97.118  3.4998  19.728  1059.3  550.00  114.72  10.598   \n",
       "2  6.8977  1008.8  95.939  3.4824  19.779  1059.4  549.87  114.71  10.601   \n",
       "3  7.0569  1009.2  95.249  3.4805  19.792  1059.6  549.99  114.72  10.606   \n",
       "4  7.3978  1009.7  95.150  3.4976  19.765  1059.7  549.98  114.72  10.612   \n",
       "\n",
       "       CO     NOX  \n",
       "0  3.1547  82.722  \n",
       "1  3.2363  82.776  \n",
       "2  3.2012  82.468  \n",
       "3  3.1923  82.670  \n",
       "4  3.2484  82.311  "
      ]
     },
     "execution_count": 80,
     "metadata": {},
     "output_type": "execute_result"
    }
   ],
   "source": [
    "#Load data\n",
    "df = pd.read_csv('gas_turbines.csv')\n",
    "df.head()"
   ]
  },
  {
   "cell_type": "code",
   "execution_count": 81,
   "id": "92b89289",
   "metadata": {},
   "outputs": [
    {
     "name": "stdout",
     "output_type": "stream",
     "text": [
      "<class 'pandas.core.frame.DataFrame'>\n",
      "RangeIndex: 15039 entries, 0 to 15038\n",
      "Data columns (total 11 columns):\n",
      " #   Column  Non-Null Count  Dtype  \n",
      "---  ------  --------------  -----  \n",
      " 0   AT      15039 non-null  float64\n",
      " 1   AP      15039 non-null  float64\n",
      " 2   AH      15039 non-null  float64\n",
      " 3   AFDP    15039 non-null  float64\n",
      " 4   GTEP    15039 non-null  float64\n",
      " 5   TIT     15039 non-null  float64\n",
      " 6   TAT     15039 non-null  float64\n",
      " 7   TEY     15039 non-null  float64\n",
      " 8   CDP     15039 non-null  float64\n",
      " 9   CO      15039 non-null  float64\n",
      " 10  NOX     15039 non-null  float64\n",
      "dtypes: float64(11)\n",
      "memory usage: 1.3 MB\n"
     ]
    }
   ],
   "source": [
    "df.info()"
   ]
  },
  {
   "cell_type": "code",
   "execution_count": 82,
   "id": "d6c0f7cf",
   "metadata": {},
   "outputs": [
    {
     "data": {
      "text/plain": [
       "<AxesSubplot:title={'center':'Distplot for TEY'}, xlabel='TEY', ylabel='Density'>"
      ]
     },
     "execution_count": 82,
     "metadata": {},
     "output_type": "execute_result"
    },
    {
     "data": {
      "image/png": "[encoded data removed]",
      "text/plain": [
       "<Figure size 432x288 with 1 Axes>"
      ]
     },
     "metadata": {
      "needs_background": "light"
     },
     "output_type": "display_data"
    }
   ],
   "source": [
    "plt.title('Distplot for TEY', fontsize=17, y = 1.01)\n",
    "sns.distplot(df['TEY'])"
   ]
  },
  {
   "cell_type": "code",
   "execution_count": null,
   "id": "4534ff07",
   "metadata": {},
   "outputs": [],
   "source": []
  },
  {
   "cell_type": "code",
   "execution_count": 84,
   "id": "91d36ba6",
   "metadata": {},
   "outputs": [],
   "source": [
    "x = df.drop('TEY', axis=1)\n",
    "y = df['TEY']"
   ]
  },
  {
   "cell_type": "code",
   "execution_count": 85,
   "id": "c9101244",
   "metadata": {
    "scrolled": false
   },
   "outputs": [
    {
     "data": {
      "text/plain": [
       "((11279, 10), (3760, 10), (11279,), (3760,))"
      ]
     },
     "execution_count": 85,
     "metadata": {},
     "output_type": "execute_result"
    }
   ],
   "source": [
    "x_train, x_test, y_train, y_test = train_test_split(x, y, test_size=0.25)\n",
    "x_train.shape, x_test.shape, y_train.shape, y_test.shape"
   ]
  },
  {
   "cell_type": "code",
   "execution_count": 86,
   "id": "4f6abad0",
   "metadata": {},
   "outputs": [],
   "source": [
    "# Importing the necessary packages\n",
    "import tensorflow as tf\n",
    "import keras\n",
    "from sklearn.model_selection import GridSearchCV, KFold\n",
    "from keras.models import Sequential\n",
    "from keras.layers import Dense\n",
    "from keras.wrappers.scikit_learn import KerasRegressor\n",
    "from tensorflow.keras.optimizers import Adam\n",
    "from keras.layers import Dropout"
   ]
  },
  {
   "cell_type": "code",
   "execution_count": 92,
   "id": "bd22e8ab",
   "metadata": {},
   "outputs": [],
   "source": [
    "def create_model_three_hidden_layers():\n",
    "    model = Sequential()\n",
    "    model.add(Dense(32, input_dim=10, kernel_initializer='uniform', activation='relu'))\n",
    "    model.add(Dense(32, kernel_initializer='uniform', activation='relu'))\n",
    "    model.add(Dense(64, kernel_initializer='uniform', activation='relu'))\n",
    "    model.add(Dense(128, kernel_initializer='uniform', activation='relu'))\n",
    "    model.add(Dense(1))\n",
    "    \n",
    "    adam=Adam(learning_rate=0.01)\n",
    "    model.compile(loss='mse', optimizer=adam, metrics=['mse', 'mae', 'mape'])\n",
    "    return model"
   ]
  },
  {
   "cell_type": "code",
   "execution_count": 93,
   "id": "872829b2",
   "metadata": {
    "scrolled": true
   },
   "outputs": [
    {
     "name": "stdout",
     "output_type": "stream",
     "text": [
      "Fitting 5 folds for each of 9 candidates, totalling 45 fits\n",
      "[CV 1/5; 1/9] START batch_size=30, epochs=300...................................\n",
      "[CV 1/5; 1/9] END ...batch_size=30, epochs=300;, score=-1.198 total time= 2.6min\n",
      "[CV 2/5; 1/9] START batch_size=30, epochs=300...................................\n",
      "[CV 2/5; 1/9] END ...batch_size=30, epochs=300;, score=-0.994 total time= 2.6min\n",
      "[CV 3/5; 1/9] START batch_size=30, epochs=300...................................\n",
      "[CV 3/5; 1/9] END ...batch_size=30, epochs=300;, score=-1.175 total time= 2.7min\n",
      "[CV 4/5; 1/9] START batch_size=30, epochs=300...................................\n",
      "[CV 4/5; 1/9] END ...batch_size=30, epochs=300;, score=-1.373 total time= 3.0min\n",
      "[CV 5/5; 1/9] START batch_size=30, epochs=300...................................\n",
      "[CV 5/5; 1/9] END ...batch_size=30, epochs=300;, score=-2.248 total time= 2.6min\n",
      "[CV 1/5; 2/9] START batch_size=30, epochs=500...................................\n",
      "[CV 1/5; 2/9] END ...batch_size=30, epochs=500;, score=-1.373 total time= 4.4min\n",
      "[CV 2/5; 2/9] START batch_size=30, epochs=500...................................\n",
      "[CV 2/5; 2/9] END ...batch_size=30, epochs=500;, score=-1.486 total time= 4.2min\n",
      "[CV 3/5; 2/9] START batch_size=30, epochs=500...................................\n",
      "[CV 3/5; 2/9] END ...batch_size=30, epochs=500;, score=-2.379 total time= 4.3min\n",
      "[CV 4/5; 2/9] START batch_size=30, epochs=500...................................\n",
      "[CV 4/5; 2/9] END ...batch_size=30, epochs=500;, score=-4.573 total time= 4.3min\n",
      "[CV 5/5; 2/9] START batch_size=30, epochs=500...................................\n",
      "[CV 5/5; 2/9] END ...batch_size=30, epochs=500;, score=-2.118 total time= 4.2min\n",
      "[CV 1/5; 3/9] START batch_size=30, epochs=800...................................\n",
      "[CV 1/5; 3/9] END ...batch_size=30, epochs=800;, score=-1.092 total time= 6.7min\n",
      "[CV 2/5; 3/9] START batch_size=30, epochs=800...................................\n",
      "[CV 2/5; 3/9] END ...batch_size=30, epochs=800;, score=-1.122 total time= 6.9min\n",
      "[CV 3/5; 3/9] START batch_size=30, epochs=800...................................\n",
      "[CV 3/5; 3/9] END ...batch_size=30, epochs=800;, score=-1.709 total time= 6.9min\n",
      "[CV 4/5; 3/9] START batch_size=30, epochs=800...................................\n",
      "[CV 4/5; 3/9] END ...batch_size=30, epochs=800;, score=-2.822 total time= 6.9min\n",
      "[CV 5/5; 3/9] START batch_size=30, epochs=800...................................\n",
      "[CV 5/5; 3/9] END ...batch_size=30, epochs=800;, score=-1.206 total time= 6.8min\n",
      "[CV 1/5; 4/9] START batch_size=50, epochs=300...................................\n",
      "[CV 1/5; 4/9] END ...batch_size=50, epochs=300;, score=-1.259 total time= 1.6min\n",
      "[CV 2/5; 4/9] START batch_size=50, epochs=300...................................\n",
      "[CV 2/5; 4/9] END ...batch_size=50, epochs=300;, score=-1.639 total time= 1.6min\n",
      "[CV 3/5; 4/9] START batch_size=50, epochs=300...................................\n",
      "[CV 3/5; 4/9] END ...batch_size=50, epochs=300;, score=-3.969 total time= 1.7min\n",
      "[CV 4/5; 4/9] START batch_size=50, epochs=300...................................\n",
      "[CV 4/5; 4/9] END ...batch_size=50, epochs=300;, score=-1.589 total time= 1.6min\n",
      "[CV 5/5; 4/9] START batch_size=50, epochs=300...................................\n",
      "[CV 5/5; 4/9] END ...batch_size=50, epochs=300;, score=-2.301 total time= 1.6min\n",
      "[CV 1/5; 5/9] START batch_size=50, epochs=500...................................\n",
      "[CV 1/5; 5/9] END ...batch_size=50, epochs=500;, score=-1.186 total time= 3.6min\n",
      "[CV 2/5; 5/9] START batch_size=50, epochs=500...................................\n",
      "[CV 2/5; 5/9] END ...batch_size=50, epochs=500;, score=-2.789 total time= 4.1min\n",
      "[CV 3/5; 5/9] START batch_size=50, epochs=500...................................\n",
      "[CV 3/5; 5/9] END ...batch_size=50, epochs=500;, score=-1.142 total time= 4.2min\n",
      "[CV 4/5; 5/9] START batch_size=50, epochs=500...................................\n",
      "[CV 4/5; 5/9] END ...batch_size=50, epochs=500;, score=-3.459 total time= 4.1min\n",
      "[CV 5/5; 5/9] START batch_size=50, epochs=500...................................\n",
      "[CV 5/5; 5/9] END ...batch_size=50, epochs=500;, score=-1.308 total time= 4.4min\n",
      "[CV 1/5; 6/9] START batch_size=50, epochs=800...................................\n",
      "[CV 1/5; 6/9] END ...batch_size=50, epochs=800;, score=-3.300 total time= 6.9min\n",
      "[CV 2/5; 6/9] START batch_size=50, epochs=800...................................\n",
      "[CV 2/5; 6/9] END ...batch_size=50, epochs=800;, score=-1.641 total time= 7.2min\n",
      "[CV 3/5; 6/9] START batch_size=50, epochs=800...................................\n",
      "[CV 3/5; 6/9] END ...batch_size=50, epochs=800;, score=-1.026 total time= 6.5min\n",
      "[CV 4/5; 6/9] START batch_size=50, epochs=800...................................\n",
      "[CV 4/5; 6/9] END ...batch_size=50, epochs=800;, score=-1.288 total time= 6.6min\n",
      "[CV 5/5; 6/9] START batch_size=50, epochs=800...................................\n",
      "[CV 5/5; 6/9] END ...batch_size=50, epochs=800;, score=-1.389 total time= 6.6min\n",
      "[CV 1/5; 7/9] START batch_size=70, epochs=300...................................\n",
      "[CV 1/5; 7/9] END ...batch_size=70, epochs=300;, score=-1.844 total time= 1.8min\n",
      "[CV 2/5; 7/9] START batch_size=70, epochs=300...................................\n",
      "[CV 2/5; 7/9] END ...batch_size=70, epochs=300;, score=-1.310 total time= 2.0min\n",
      "[CV 3/5; 7/9] START batch_size=70, epochs=300...................................\n",
      "[CV 3/5; 7/9] END ...batch_size=70, epochs=300;, score=-1.368 total time= 1.8min\n",
      "[CV 4/5; 7/9] START batch_size=70, epochs=300...................................\n",
      "[CV 4/5; 7/9] END ...batch_size=70, epochs=300;, score=-2.873 total time= 1.8min\n",
      "[CV 5/5; 7/9] START batch_size=70, epochs=300...................................\n",
      "[CV 5/5; 7/9] END ...batch_size=70, epochs=300;, score=-2.871 total time= 1.8min\n",
      "[CV 1/5; 8/9] START batch_size=70, epochs=500...................................\n",
      "[CV 1/5; 8/9] END ...batch_size=70, epochs=500;, score=-5.008 total time= 2.9min\n",
      "[CV 2/5; 8/9] START batch_size=70, epochs=500...................................\n",
      "[CV 2/5; 8/9] END ...batch_size=70, epochs=500;, score=-1.335 total time= 2.9min\n",
      "[CV 3/5; 8/9] START batch_size=70, epochs=500...................................\n",
      "[CV 3/5; 8/9] END ...batch_size=70, epochs=500;, score=-1.807 total time= 3.1min\n",
      "[CV 4/5; 8/9] START batch_size=70, epochs=500...................................\n",
      "[CV 4/5; 8/9] END ...batch_size=70, epochs=500;, score=-0.953 total time= 3.1min\n",
      "[CV 5/5; 8/9] START batch_size=70, epochs=500...................................\n",
      "[CV 5/5; 8/9] END ...batch_size=70, epochs=500;, score=-3.626 total time= 3.0min\n",
      "[CV 1/5; 9/9] START batch_size=70, epochs=800...................................\n",
      "[CV 1/5; 9/9] END ...batch_size=70, epochs=800;, score=-1.335 total time= 4.8min\n",
      "[CV 2/5; 9/9] START batch_size=70, epochs=800...................................\n",
      "[CV 2/5; 9/9] END ...batch_size=70, epochs=800;, score=-2.552 total time= 4.9min\n",
      "[CV 3/5; 9/9] START batch_size=70, epochs=800...................................\n",
      "[CV 3/5; 9/9] END ...batch_size=70, epochs=800;, score=-1.191 total time= 4.8min\n",
      "[CV 4/5; 9/9] START batch_size=70, epochs=800...................................\n",
      "[CV 4/5; 9/9] END ...batch_size=70, epochs=800;, score=-0.787 total time= 4.7min\n",
      "[CV 5/5; 9/9] START batch_size=70, epochs=800...................................\n",
      "[CV 5/5; 9/9] END ...batch_size=70, epochs=800;, score=-1.037 total time= 4.7min\n"
     ]
    }
   ],
   "source": [
    "model = KerasRegressor(build_fn = create_model_three_hidden_layers,verbose = 0)\n",
    "# Define the grid search parameters\n",
    "batch_size = [30,50,70]\n",
    "epochs = [300,500,800]\n",
    "# Make a dictionary of the grid search parameters\n",
    "param_grid = dict(batch_size = batch_size,epochs = epochs)\n",
    "# Build and fit the GridSearchCV\n",
    "grid = GridSearchCV(estimator = model,param_grid = param_grid,cv = KFold(),verbose = 10)\n",
    "grid_result = grid.fit(x_train,y_train)"
   ]
  },
  {
   "cell_type": "code",
   "execution_count": 94,
   "id": "a8b4e632",
   "metadata": {},
   "outputs": [
    {
     "data": {
      "text/plain": [
       "GridSearchCV(cv=KFold(n_splits=5, random_state=None, shuffle=False),\n",
       "             estimator=<keras.wrappers.scikit_learn.KerasRegressor object at 0x00000225A3E16BB0>,\n",
       "             param_grid={'batch_size': [30, 50, 70], 'epochs': [300, 500, 800]},\n",
       "             verbose=10)"
      ]
     },
     "execution_count": 94,
     "metadata": {},
     "output_type": "execute_result"
    }
   ],
   "source": [
    "grid_result"
   ]
  },
  {
   "cell_type": "code",
   "execution_count": 95,
   "id": "7199dbaf",
   "metadata": {},
   "outputs": [
    {
     "name": "stdout",
     "output_type": "stream",
     "text": [
      "Best : -1.3803606867790221, using {'batch_size': 70, 'epochs': 800}\n",
      "-1.3977492690086364,0.4415961237488772 with: {'batch_size': 30, 'epochs': 300}\n",
      "-2.3859138011932375,1.1569173933922428 with: {'batch_size': 30, 'epochs': 500}\n",
      "-1.590137243270874,0.655052007684217 with: {'batch_size': 30, 'epochs': 800}\n",
      "-2.1511343479156495,0.969508593823688 with: {'batch_size': 50, 'epochs': 300}\n",
      "-1.9769815444946288,0.9617795047032871 with: {'batch_size': 50, 'epochs': 500}\n",
      "-1.7288410186767578,0.8102226046004801 with: {'batch_size': 50, 'epochs': 800}\n",
      "-2.053271198272705,0.6935078095039184 with: {'batch_size': 70, 'epochs': 300}\n",
      "-2.5456727027893065,1.5346087993920394 with: {'batch_size': 70, 'epochs': 500}\n",
      "-1.3803606867790221,0.613445299881951 with: {'batch_size': 70, 'epochs': 800}\n"
     ]
    }
   ],
   "source": [
    "# Summarize the results\n",
    "print('Best : {}, using {}'.format(grid_result.best_score_,grid_result.best_params_))\n",
    "means = grid_result.cv_results_['mean_test_score']\n",
    "stds = grid_result.cv_results_['std_test_score']\n",
    "params = grid_result.cv_results_['params']\n",
    "for mean, stdev, param in zip(means, stds, params):\n",
    "  print('{},{} with: {}'.format(mean, stdev, param))"
   ]
  }
 ],
 "metadata": {
  "kernelspec": {
   "display_name": "Python 3 (ipykernel)",
   "language": "python",
   "name": "python3"
  },
  "language_info": {
   "codemirror_mode": {
    "name": "ipython",
    "version": 3
   },
   "file_extension": ".py",
   "mimetype": "text/x-python",
   "name": "python",
   "nbconvert_exporter": "python",
   "pygments_lexer": "ipython3",
   "version": "3.9.12"
  }
 },
 "nbformat": 4,
 "nbformat_minor": 5
}
